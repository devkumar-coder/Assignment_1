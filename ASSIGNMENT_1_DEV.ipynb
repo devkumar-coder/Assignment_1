{
 "cells": [
  {
   "cell_type": "markdown",
   "id": "80ae0f06",
   "metadata": {},
   "source": [
    "# Assignment: 1"
   ]
  },
  {
   "cell_type": "markdown",
   "id": "e97daebd",
   "metadata": {},
   "source": [
    "#### Importing necessary libraries"
   ]
  },
  {
   "cell_type": "code",
   "execution_count": 1,
   "id": "552b64ef",
   "metadata": {},
   "outputs": [],
   "source": [
    "import pandas as pd\n",
    "import matplotlib.pyplot as plt"
   ]
  },
  {
   "cell_type": "code",
   "execution_count": 3,
   "id": "974d9a70",
   "metadata": {},
   "outputs": [],
   "source": [
    "data = pd.read_csv('Cars_price_prediction.csv')"
   ]
  },
  {
   "cell_type": "code",
   "execution_count": 4,
   "id": "1d7ab5bc",
   "metadata": {},
   "outputs": [
    {
     "data": {
      "text/html": [
       "<div>\n",
       "<style scoped>\n",
       "    .dataframe tbody tr th:only-of-type {\n",
       "        vertical-align: middle;\n",
       "    }\n",
       "\n",
       "    .dataframe tbody tr th {\n",
       "        vertical-align: top;\n",
       "    }\n",
       "\n",
       "    .dataframe thead th {\n",
       "        text-align: right;\n",
       "    }\n",
       "</style>\n",
       "<table border=\"1\" class=\"dataframe\">\n",
       "  <thead>\n",
       "    <tr style=\"text-align: right;\">\n",
       "      <th></th>\n",
       "      <th>Name</th>\n",
       "      <th>Location</th>\n",
       "      <th>Year</th>\n",
       "      <th>Kilometers_Driven</th>\n",
       "      <th>Fuel_Type</th>\n",
       "      <th>Transmission</th>\n",
       "      <th>Owner_Type</th>\n",
       "      <th>Mileage</th>\n",
       "      <th>Engine</th>\n",
       "      <th>Power</th>\n",
       "      <th>Colour</th>\n",
       "      <th>Seats</th>\n",
       "      <th>No. of Doors</th>\n",
       "      <th>New_Price</th>\n",
       "      <th>Price</th>\n",
       "    </tr>\n",
       "  </thead>\n",
       "  <tbody>\n",
       "    <tr>\n",
       "      <th>0</th>\n",
       "      <td>Mahindra Scorpio</td>\n",
       "      <td>Pune</td>\n",
       "      <td>2012.0</td>\n",
       "      <td>99000.0</td>\n",
       "      <td>Diesel</td>\n",
       "      <td>Manual</td>\n",
       "      <td>Third</td>\n",
       "      <td>12.05 kmpl</td>\n",
       "      <td>2179 CC</td>\n",
       "      <td>120 bhp</td>\n",
       "      <td>Black/Silver</td>\n",
       "      <td>8.0</td>\n",
       "      <td>5.0</td>\n",
       "      <td>NaN</td>\n",
       "      <td>6.00</td>\n",
       "    </tr>\n",
       "    <tr>\n",
       "      <th>1</th>\n",
       "      <td>Maruti Baleno</td>\n",
       "      <td>Kochi</td>\n",
       "      <td>2018.0</td>\n",
       "      <td>18678.0</td>\n",
       "      <td>Petrol</td>\n",
       "      <td>Manual</td>\n",
       "      <td>First</td>\n",
       "      <td>21.1 kmpl</td>\n",
       "      <td>998 CC</td>\n",
       "      <td>100 bhp</td>\n",
       "      <td>Others</td>\n",
       "      <td>5.0</td>\n",
       "      <td>4.0</td>\n",
       "      <td>NaN</td>\n",
       "      <td>8.32</td>\n",
       "    </tr>\n",
       "    <tr>\n",
       "      <th>2</th>\n",
       "      <td>Mahindra Xylo</td>\n",
       "      <td>Bangalore</td>\n",
       "      <td>2013.0</td>\n",
       "      <td>197000.0</td>\n",
       "      <td>Diesel</td>\n",
       "      <td>Manual</td>\n",
       "      <td>First</td>\n",
       "      <td>11.68 kmpl</td>\n",
       "      <td>2498 CC</td>\n",
       "      <td>112 bhp</td>\n",
       "      <td>White</td>\n",
       "      <td>7.0</td>\n",
       "      <td>5.0</td>\n",
       "      <td>NaN</td>\n",
       "      <td>4.00</td>\n",
       "    </tr>\n",
       "    <tr>\n",
       "      <th>3</th>\n",
       "      <td>Hyundai Grand</td>\n",
       "      <td>Delhi</td>\n",
       "      <td>2014.0</td>\n",
       "      <td>45000.0</td>\n",
       "      <td>Diesel</td>\n",
       "      <td>Manual</td>\n",
       "      <td>First</td>\n",
       "      <td>24.0 kmpl</td>\n",
       "      <td>1120 CC</td>\n",
       "      <td>70 bhp</td>\n",
       "      <td>White</td>\n",
       "      <td>5.0</td>\n",
       "      <td>4.0</td>\n",
       "      <td>NaN</td>\n",
       "      <td>3.49</td>\n",
       "    </tr>\n",
       "    <tr>\n",
       "      <th>4</th>\n",
       "      <td>Toyota Innova</td>\n",
       "      <td>Delhi</td>\n",
       "      <td>2011.0</td>\n",
       "      <td>65000.0</td>\n",
       "      <td>Diesel</td>\n",
       "      <td>Manual</td>\n",
       "      <td>First</td>\n",
       "      <td>12.8 kmpl</td>\n",
       "      <td>2494 CC</td>\n",
       "      <td>102 bhp</td>\n",
       "      <td>Others</td>\n",
       "      <td>8.0</td>\n",
       "      <td>5.0</td>\n",
       "      <td>NaN</td>\n",
       "      <td>6.40</td>\n",
       "    </tr>\n",
       "  </tbody>\n",
       "</table>\n",
       "</div>"
      ],
      "text/plain": [
       "               Name   Location    Year  Kilometers_Driven Fuel_Type  \\\n",
       "0  Mahindra Scorpio       Pune  2012.0            99000.0    Diesel   \n",
       "1     Maruti Baleno      Kochi  2018.0            18678.0    Petrol   \n",
       "2     Mahindra Xylo  Bangalore  2013.0           197000.0    Diesel   \n",
       "3     Hyundai Grand      Delhi  2014.0            45000.0    Diesel   \n",
       "4     Toyota Innova      Delhi  2011.0            65000.0    Diesel   \n",
       "\n",
       "  Transmission Owner_Type     Mileage   Engine    Power        Colour  Seats  \\\n",
       "0       Manual      Third  12.05 kmpl  2179 CC  120 bhp  Black/Silver    8.0   \n",
       "1       Manual      First   21.1 kmpl   998 CC  100 bhp        Others    5.0   \n",
       "2       Manual      First  11.68 kmpl  2498 CC  112 bhp         White    7.0   \n",
       "3       Manual      First   24.0 kmpl  1120 CC   70 bhp         White    5.0   \n",
       "4       Manual      First   12.8 kmpl  2494 CC  102 bhp        Others    8.0   \n",
       "\n",
       "   No. of Doors New_Price  Price  \n",
       "0           5.0       NaN   6.00  \n",
       "1           4.0       NaN   8.32  \n",
       "2           5.0       NaN   4.00  \n",
       "3           4.0       NaN   3.49  \n",
       "4           5.0       NaN   6.40  "
      ]
     },
     "execution_count": 4,
     "metadata": {},
     "output_type": "execute_result"
    }
   ],
   "source": [
    "data.head()"
   ]
  },
  {
   "cell_type": "markdown",
   "id": "15b8a537",
   "metadata": {},
   "source": [
    "##### (a) Creating a bar plot between Year and Price of the car."
   ]
  },
  {
   "cell_type": "code",
   "execution_count": 6,
   "id": "47d9a0f1",
   "metadata": {},
   "outputs": [
    {
     "data": {
      "image/png": "[encoded data removed]",
      "text/plain": [
       "<Figure size 432x288 with 1 Axes>"
      ]
     },
     "metadata": {
      "needs_background": "light"
     },
     "output_type": "display_data"
    }
   ],
   "source": [
    "plt.bar(data['Year'],data['Price'])\n",
    "plt.title(\"Variation in Price with respect to the Year\")\n",
    "plt.xlabel(\"Year\",c = 'g')\n",
    "plt.ylabel(\"Price in lacs\",c='g')\n",
    "plt.savefig(\"BarPlot_Year_Price\")\n",
    "plt.show()\n"
   ]
  },
  {
   "cell_type": "markdown",
   "id": "20f91d4f",
   "metadata": {},
   "source": [
    "This plot shows the variation in price over the years, with price in lacs on the y-axis.\n",
    "Also we can see that there is sudden increase in price in the year 2006,2011 and 2017.\n",
    "\n",
    "In this plot, the library matplotlib with the plot function for the line plot has used. Also, title,xlabel,and ylabel fuctions are used for giving the title of the plot, label for the x axis and label for the y axis."
   ]
  },
  {
   "cell_type": "markdown",
   "id": "46cace9d",
   "metadata": {},
   "source": [
    "##### (b) Creating a scatterplot for the Kilometers_Driven with respect to price"
   ]
  },
  {
   "cell_type": "code",
   "execution_count": 7,
   "id": "3cc7c6fd",
   "metadata": {},
   "outputs": [
    {
     "data": {
      "image/png": "[encoded data removed]",
      "text/plain": [
       "<Figure size 432x288 with 1 Axes>"
      ]
     },
     "metadata": {
      "needs_background": "light"
     },
     "output_type": "display_data"
    }
   ],
   "source": [
    "plt.scatter(data['Kilometers_Driven'],data['Price'])\n",
    "plt.title(\"Scatter plot between kilometers and Price\",c ='r')\n",
    "plt.xlabel(\"Kilometers driven (Lakhs)\",c='g')\n",
    "plt.ylabel(\"Price (Lakhs)\",c='g')\n",
    "plt.savefig(\"Scatterplot_KM_Price\")\n",
    "plt.show()"
   ]
  },
  {
   "cell_type": "markdown",
   "id": "41405d0b",
   "metadata": {},
   "source": [
    "This above scatterplot shows us the variation of price with respect to the Kilometers driven. Also we can see that there is only one car which has value of kilometers_driven as 6500000.\n",
    "In this plot, the library matplotlib with the scatter function used.Also, title,xlabel,and ylabel fuctions are used for giving the title of the plot, label for the x axis and label for the y axis."
   ]
  },
  {
   "cell_type": "markdown",
   "id": "9dff89b8",
   "metadata": {},
   "source": [
    "##### (c) Creating a box plot for Price Columnsof the data "
   ]
  },
  {
   "cell_type": "code",
   "execution_count": 8,
   "id": "f52c1f9f",
   "metadata": {},
   "outputs": [
    {
     "data": {
      "image/png": "[encoded data removed]",
      "text/plain": [
       "<Figure size 432x288 with 1 Axes>"
      ]
     },
     "metadata": {
      "needs_background": "light"
     },
     "output_type": "display_data"
    }
   ],
   "source": [
    "plt.boxplot(data['Price'])\n",
    "plt.title(\"Box plot on Price\",c='r')\n",
    "plt.ylabel(\"Price\",c ='g')\n",
    "plt.savefig(\"Box_plot_Price\")\n",
    "plt.show()"
   ]
  },
  {
   "cell_type": "markdown",
   "id": "743a7837",
   "metadata": {},
   "source": [
    "This above box plot indicates there are so many outliers in the price column of the dataset.\n",
    "In this plot, the library matplotlib with the boxplot function used.Also, title,xlabel,and ylabel fuctions are used for giving the title of the plot, label for the x axis and label for the y axis."
   ]
  },
  {
   "cell_type": "code",
   "execution_count": null,
   "id": "0c86e23d",
   "metadata": {},
   "outputs": [],
   "source": []
  }
 ],
 "metadata": {
  "kernelspec": {
   "display_name": "Python 3 (ipykernel)",
   "language": "python",
   "name": "python3"
  },
  "language_info": {
   "codemirror_mode": {
    "name": "ipython",
    "version": 3
   },
   "file_extension": ".py",
   "mimetype": "text/x-python",
   "name": "python",
   "nbconvert_exporter": "python",
   "pygments_lexer": "ipython3",
   "version": "3.9.12"
  }
 },
 "nbformat": 4,
 "nbformat_minor": 5
}
